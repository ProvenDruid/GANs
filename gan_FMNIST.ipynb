{
  "nbformat": 4,
  "nbformat_minor": 0,
  "metadata": {
    "colab": {
      "provenance": [],
      "gpuType": "T4",
      "authorship_tag": "ABX9TyPa03g5ntgD7YzASq9BCMLw",
      "include_colab_link": true
    },
    "kernelspec": {
      "name": "python3",
      "display_name": "Python 3"
    },
    "language_info": {
      "name": "python"
    },
    "accelerator": "GPU"
  },
  "cells": [
    {
      "cell_type": "markdown",
      "metadata": {
        "id": "view-in-github",
        "colab_type": "text"
      },
      "source": [
        "<a href=\"https://colab.research.google.com/github/ProvenDruid/GANs/blob/main/gan_FMNIST.ipynb\" target=\"_parent\"><img src=\"https://colab.research.google.com/assets/colab-badge.svg\" alt=\"Open In Colab\"/></a>"
      ]
    },
    {
      "cell_type": "code",
      "execution_count": null,
      "metadata": {
        "id": "an-Uo13x0UrB"
      },
      "outputs": [],
      "source": [
        "# import libraries\n",
        "import numpy as np\n",
        "import sys\n",
        "import torch\n",
        "import torch.nn as nn\n",
        "import torch.nn.functional as F\n",
        "\n",
        "# for importing data\n",
        "import torchvision\n",
        "import torchvision.transforms as T\n",
        "from torch.utils.data import DataLoader,Subset\n",
        "\n",
        "import copy\n",
        "\n",
        "import matplotlib.pyplot as plt\n",
        "from IPython import display\n",
        "from matplotlib_inline.backend_inline import set_matplotlib_formats"
      ]
    },
    {
      "cell_type": "code",
      "source": [
        "device = torch.device('cuda' if torch.cuda.is_available() else 'cpu')"
      ],
      "metadata": {
        "id": "9i_6YFNK0mBX"
      },
      "execution_count": null,
      "outputs": []
    },
    {
      "cell_type": "code",
      "source": [
        "# transformations\n",
        "transform = T.Compose([ T.ToTensor(),\n",
        "                        T.RandomHorizontalFlip(p=.5),\n",
        "                        T.Normalize(.5,.5),\n",
        "                       ])\n",
        "\n",
        "# import the data and simultaneously apply the transform\n",
        "trainset = torchvision.datasets.FashionMNIST(root='./data', train=True,  download=True, transform=transform)"
      ],
      "metadata": {
        "id": "R9ju81w31ENu"
      },
      "execution_count": null,
      "outputs": []
    },
    {
      "cell_type": "code",
      "source": [
        "trousers=trainset.data[trainset.targets==1]\n",
        "pullovers=trainset.data[trainset.targets==2]\n",
        "sneakers=trainset.data[trainset.targets==7]\n",
        "items = torch.cat((trousers, pullovers, sneakers), dim=0)\n",
        "plt.imshow(items[5999], cmap=\"gray\" )\n",
        "plt.show()\n",
        "plt.imshow(items[11999], cmap=\"gray\" )\n",
        "plt.show()\n",
        "plt.imshow(items[17999], cmap=\"gray\" )\n",
        "plt.show()\n",
        "items=items.reshape(18000,784).type(torch.float)\n",
        "print(items.shape)\n",
        "batchsize = 100"
      ],
      "metadata": {
        "colab": {
          "base_uri": "https://localhost:8080/",
          "height": 1000
        },
        "id": "2PRTBo-w4c3O",
        "outputId": "be8220ac-c83e-4e63-8e6e-18fd0b790abe"
      },
      "execution_count": null,
      "outputs": [
        {
          "output_type": "display_data",
          "data": {
            "text/plain": [
              "<Figure size 640x480 with 1 Axes>"
            ],
            "image/png": "[encoded data removed]"
          },
          "metadata": {}
        },
        {
          "output_type": "display_data",
          "data": {
            "text/plain": [
              "<Figure size 640x480 with 1 Axes>"
            ],
            "image/png": "[encoded data removed]"
          },
          "metadata": {}
        },
        {
          "output_type": "display_data",
          "data": {
            "text/plain": [
              "<Figure size 640x480 with 1 Axes>"
            ],
            "image/png": "[encoded data removed]"
          },
          "metadata": {}
        },
        {
          "output_type": "stream",
          "name": "stdout",
          "text": [
            "torch.Size([18000, 784])\n"
          ]
        }
      ]
    },
    {
      "cell_type": "code",
      "source": [
        "#this net receives a vector of 728 pixels and then with a binary output decides if it's a real image or a fake image, it ends with a sigmoid because the loss function is BCELoss\n",
        "class discriminatorNet(nn.Module):\n",
        "  def __init__(self):\n",
        "    super().__init__()\n",
        "                          #784\n",
        "    self.fc1 = nn.Linear(28*28,256)\n",
        "    self.fc2 = nn.Linear(256,256)\n",
        "    self.out = nn.Linear(256,1)\n",
        "\n",
        "  def forward(self,x):\n",
        "    x = F.leaky_relu( self.fc1(x) )\n",
        "    x = F.leaky_relu( self.fc2(x) )\n",
        "    x = self.out(x)\n",
        "    return torch.sigmoid( x )\n",
        "\n",
        "dnet = discriminatorNet()\n",
        "y = dnet(torch.randn(10,784))\n",
        "y"
      ],
      "metadata": {
        "colab": {
          "base_uri": "https://localhost:8080/"
        },
        "id": "LFx03o5AAhcJ",
        "outputId": "a0390a6f-fd9f-4606-882e-2eb84856521c"
      },
      "execution_count": null,
      "outputs": [
        {
          "output_type": "execute_result",
          "data": {
            "text/plain": [
              "tensor([[0.4969],\n",
              "        [0.4899],\n",
              "        [0.5127],\n",
              "        [0.5284],\n",
              "        [0.4834],\n",
              "        [0.5155],\n",
              "        [0.5307],\n",
              "        [0.5060],\n",
              "        [0.4817],\n",
              "        [0.5150]], grad_fn=<SigmoidBackward0>)"
            ]
          },
          "metadata": {},
          "execution_count": 149
        }
      ]
    },
    {
      "cell_type": "code",
      "source": [
        "#this net receives just noise but with each layer increases the size until the end where the output is 784, in this case representing the pixels for a 28x28 image\n",
        "class generatorNet(nn.Module):\n",
        "  def __init__(self):\n",
        "    super().__init__()\n",
        "\n",
        "    self.fc1 = nn.Linear(64,256)\n",
        "    self.fc2 = nn.Linear(256,256)\n",
        "    self.out = nn.Linear(256,784)\n",
        "\n",
        "  def forward(self,x):\n",
        "    x = F.leaky_relu( self.fc1(x) )\n",
        "    x = F.leaky_relu( self.fc2(x) )\n",
        "    x = self.out(x)\n",
        "    return torch.tanh( x )\n",
        "\n",
        "\n",
        "gnet = generatorNet()\n",
        "y = gnet(torch.randn(10,64))\n",
        "plt.imshow(y[9,:].detach().squeeze().view(28,28));"
      ],
      "metadata": {
        "colab": {
          "base_uri": "https://localhost:8080/",
          "height": 430
        },
        "id": "A4vnewFnA11q",
        "outputId": "67069abe-35b3-4f49-d4b7-4193dda22dd4"
      },
      "execution_count": null,
      "outputs": [
        {
          "output_type": "display_data",
          "data": {
            "text/plain": [
              "<Figure size 640x480 with 1 Axes>"
            ],
            "image/png": "[encoded data removed]"
          },
          "metadata": {}
        }
      ]
    },
    {
      "cell_type": "code",
      "source": [
        "#the 2 nets are created, the loss function is defined and the optimizers are also defined\n",
        "# loss function (same for both phases of training)\n",
        "lossfun = nn.BCELoss()\n",
        "\n",
        "# create instances of the models\n",
        "dnet = discriminatorNet().to(device)\n",
        "gnet = generatorNet().to(device)\n",
        "\n",
        "# optimizers (same algo but different variables b/c different parameters)\n",
        "d_optimizer = torch.optim.Adam(dnet.parameters(), lr=.0003)\n",
        "g_optimizer = torch.optim.Adam(gnet.parameters(), lr=.0003)"
      ],
      "metadata": {
        "id": "oR6vO2gABLEC"
      },
      "execution_count": null,
      "outputs": []
    },
    {
      "cell_type": "code",
      "source": [
        "# this cell takes ~3 mins with 50k epochs\n",
        "num_epochs = 150000\n",
        "\n",
        "losses  = np.zeros((num_epochs,2))\n",
        "disDecs = np.zeros((num_epochs,2)) # disDecs = discriminator decisions\n",
        "\n",
        "for epochi in range(num_epochs):\n",
        "\n",
        "  # create minibatches of REAL and FAKE images\n",
        "  randidx     = torch.randint(items.shape[0],(batchsize,))\n",
        "  real_images = items[randidx,:].to(device)\n",
        "  fake_images = gnet( torch.randn(batchsize,64).to(device) ) # output of generator\n",
        "\n",
        "\n",
        "  # labels used for real and fake images\n",
        "  real_labels = torch.ones(batchsize,1).to(device)\n",
        "  fake_labels = torch.zeros(batchsize,1).to(device)\n",
        "\n",
        "\n",
        "\n",
        "  ### ---------------- Train the discriminator ---------------- ###\n",
        "\n",
        "  # forward pass and loss for REAL pictures\n",
        "  pred_real   = dnet(real_images)              # REAL images into discriminator\n",
        "  d_loss_real = lossfun(pred_real,real_labels) # all labels are 1\n",
        "\n",
        "  # forward pass and loss for FAKE pictures\n",
        "  pred_fake   = dnet(fake_images)              # FAKE images into discriminator\n",
        "  d_loss_fake = lossfun(pred_fake,fake_labels) # all labels are 0\n",
        "\n",
        "  # collect loss (using combined losses)\n",
        "  d_loss = d_loss_real + d_loss_fake\n",
        "  losses[epochi,0]  = d_loss.item()\n",
        "  disDecs[epochi,0] = torch.mean((pred_real>.5).float()).detach()\n",
        "\n",
        "  # backprop\n",
        "  d_optimizer.zero_grad()\n",
        "  d_loss.backward()\n",
        "  d_optimizer.step()\n",
        "\n",
        "\n",
        "\n",
        "\n",
        "  ### ---------------- Train the generator ---------------- ###\n",
        "\n",
        "  # create fake images and compute loss\n",
        "  fake_images = gnet( torch.randn(batchsize,64).to(device) )\n",
        "  pred_fake   = dnet(fake_images)\n",
        "\n",
        "  # compute and collect loss and accuracy\n",
        "  g_loss = lossfun(pred_fake,real_labels)\n",
        "  losses[epochi,1]  = g_loss.item()\n",
        "  disDecs[epochi,1] = torch.mean((pred_fake>.5).float()).detach()\n",
        "\n",
        "  # backprop\n",
        "  g_optimizer.zero_grad()\n",
        "  g_loss.backward()\n",
        "  g_optimizer.step()\n",
        "\n",
        "\n",
        "  # print out a status message\n",
        "  if (epochi+1)%500==0:\n",
        "    msg = f'Finished epoch {epochi+1}/{num_epochs}'\n",
        "    sys.stdout.write('\\r' + msg)"
      ],
      "metadata": {
        "colab": {
          "base_uri": "https://localhost:8080/"
        },
        "id": "wDdj_gRXBOyh",
        "outputId": "49c0b2d8-d1be-4071-ca4d-1946b89cab4d"
      },
      "execution_count": null,
      "outputs": [
        {
          "output_type": "stream",
          "name": "stdout",
          "text": [
            "Finished epoch 56000/150000"
          ]
        }
      ]
    },
    {
      "cell_type": "code",
      "source": [
        "fig,ax = plt.subplots(1,3,figsize=(18,5))\n",
        "\n",
        "ax[0].plot(losses)\n",
        "ax[0].set_xlabel('Epochs')\n",
        "ax[0].set_ylabel('Loss')\n",
        "ax[0].set_title('Model loss')\n",
        "ax[0].legend(['Discrimator','Generator'])\n",
        "# ax[0].set_xlim([4000,5000])\n",
        "\n",
        "ax[1].plot(losses[::5,0],losses[::5,1],'k.',alpha=.1)\n",
        "ax[1].set_xlabel('Discriminator loss')\n",
        "ax[1].set_ylabel('Generator loss')\n",
        "\n",
        "ax[2].plot(disDecs)\n",
        "ax[2].set_xlabel('Epochs')\n",
        "ax[2].set_ylabel('Probablity (\"real\")')\n",
        "ax[2].set_title('Discriminator output')\n",
        "ax[2].legend(['Real','Fake'])\n",
        "\n",
        "plt.show()"
      ],
      "metadata": {
        "id": "LN7gzIlzCmXa"
      },
      "execution_count": null,
      "outputs": []
    },
    {
      "cell_type": "code",
      "source": [
        "# generate the images from the generator network\n",
        "gnet.eval()\n",
        "fake_data = gnet(torch.randn(12,64).to(device)).cpu()\n",
        "\n",
        "# and visualize...\n",
        "fig,axs = plt.subplots(3,4,figsize=(8,6))\n",
        "for i,ax in enumerate(axs.flatten()):\n",
        "  ax.imshow(fake_data[i,:,].detach().view(28,28),cmap='gray')\n",
        "  ax.axis('off')\n",
        "\n",
        "plt.show()"
      ],
      "metadata": {
        "colab": {
          "base_uri": "https://localhost:8080/",
          "height": 497
        },
        "id": "Vlb8eFPpEBy4",
        "outputId": "07cb0bed-329a-453b-f8c1-e6c28fc733be"
      },
      "execution_count": null,
      "outputs": [
        {
          "output_type": "display_data",
          "data": {
            "text/plain": [
              "<Figure size 800x600 with 12 Axes>"
            ],
            "image/png": "[encoded data removed]"
          },
          "metadata": {}
        }
      ]
    },
    {
      "cell_type": "code",
      "source": [
        "# transformations\n",
        "transform = T.Compose([ T.ToTensor(),\n",
        "                        T.Normalize(.5,.5),\n",
        "                       ])\n",
        "\n",
        "# import the data and simultaneously apply the transform\n",
        "dataset = torchvision.datasets.FashionMNIST(root='./data', download=True, transform=transform)"
      ],
      "metadata": {
        "id": "pbCn-vu6N6B8"
      },
      "execution_count": null,
      "outputs": []
    },
    {
      "cell_type": "code",
      "source": [
        "# list the categories\n",
        "print(dataset.classes)\n",
        "\n",
        "# pick three categories (leave one line uncommented)\n",
        "# classes2keep = [ 'Trouser','Sneaker','Pullover' ]\n",
        "classes2keep = [ 'Trouser','Sneaker', 'Sandal'  ]\n",
        "\n",
        "\n",
        "\n",
        "# find the corresponding data indices\n",
        "images2use = torch.Tensor()\n",
        "for i in range(len(classes2keep)):\n",
        "  classidx = dataset.classes.index(classes2keep[i])\n",
        "  images2use = torch.cat( (images2use,torch.where(dataset.targets==classidx)[0]), 0).type(torch.long)\n",
        "  print(f'Added class {classes2keep[i]} (index {classidx})')\n",
        "\n",
        "# now select just those images\n",
        "\n",
        "# transform to dataloaders\n",
        "batchsize   = 100\n",
        "sampler     = torch.utils.data.sampler.SubsetRandomSampler(images2use)\n",
        "data_loader = DataLoader(dataset,sampler=sampler,batch_size=batchsize,drop_last=True)"
      ],
      "metadata": {
        "colab": {
          "base_uri": "https://localhost:8080/"
        },
        "id": "V_F9-V45N9D0",
        "outputId": "ed8c32d5-6286-46cd-a17b-e1001a5b47b3"
      },
      "execution_count": null,
      "outputs": [
        {
          "output_type": "stream",
          "name": "stdout",
          "text": [
            "['T-shirt/top', 'Trouser', 'Pullover', 'Dress', 'Coat', 'Sandal', 'Shirt', 'Sneaker', 'Bag', 'Ankle boot']\n",
            "Added class Trouser (index 1)\n",
            "Added class Sneaker (index 7)\n",
            "Added class Sandal (index 5)\n"
          ]
        }
      ]
    },
    {
      "cell_type": "code",
      "source": [
        "X.shape\n",
        "X = X.view(batchsize,-1)\n",
        "X.shape"
      ],
      "metadata": {
        "colab": {
          "base_uri": "https://localhost:8080/"
        },
        "id": "ATEP2Q8kOUsN",
        "outputId": "169af7d2-ac5f-4f71-d569-1ddbf047972e"
      },
      "execution_count": null,
      "outputs": [
        {
          "output_type": "execute_result",
          "data": {
            "text/plain": [
              "torch.Size([100, 784])"
            ]
          },
          "metadata": {},
          "execution_count": 125
        }
      ]
    },
    {
      "cell_type": "code",
      "source": [
        "# view some images\n",
        "# inspect a few random images\n",
        "\n",
        "randidx     = torch.randint(items.shape[0],(batchsize,))\n",
        "real_images = items[randidx,:]\n",
        "\n",
        "fig,axs = plt.subplots(3,6,figsize=(10,6))\n",
        "\n",
        "for (i,ax) in enumerate(axs.flatten()):\n",
        "\n",
        "  # extract that image\n",
        "  pic = real_images[i].reshape(28,28)\n",
        "  pic = pic/2 + .5 # undo normalization\n",
        "\n",
        "  # and its label\n",
        "  label = dataset.classes[y[i]]\n",
        "\n",
        "  # and show!\n",
        "  ax.imshow(pic,cmap='gray')\n",
        "  #ax.text(14,0,label,ha='center',fontweight='bold',color='k',backgroundcolor='y')\n",
        "  ax.axis('off')\n",
        "\n",
        "plt.tight_layout()\n",
        "plt.show()"
      ],
      "metadata": {
        "colab": {
          "base_uri": "https://localhost:8080/",
          "height": 559
        },
        "id": "OzsGLFBsZYHR",
        "outputId": "9daf7856-df0e-40d8-ad29-dc6bbb1fafdc"
      },
      "execution_count": null,
      "outputs": [
        {
          "output_type": "display_data",
          "data": {
            "text/plain": [
              "<Figure size 1000x600 with 18 Axes>"
            ],
            "image/png": "[encoded data removed]"
          },
          "metadata": {}
        }
      ]
    },
    {
      "cell_type": "code",
      "source": [
        "X,y = next(iter(data_loader))\n",
        "print(X.shape)\n",
        "X = X.view(batchsize,-1)\n",
        "print(X.shape)"
      ],
      "metadata": {
        "colab": {
          "base_uri": "https://localhost:8080/"
        },
        "id": "Xd3s7aG7Z62w",
        "outputId": "c519256a-76bf-46f4-92a7-60446bbd0001"
      },
      "execution_count": null,
      "outputs": [
        {
          "output_type": "stream",
          "name": "stdout",
          "text": [
            "torch.Size([100, 1, 28, 28])\n",
            "torch.Size([100, 784])\n"
          ]
        }
      ]
    },
    {
      "cell_type": "code",
      "source": [
        "randidx     = torch.randint(items.shape[0],(batchsize,))\n",
        "real_images = items[randidx,:]\n",
        "real_images.shape"
      ],
      "metadata": {
        "colab": {
          "base_uri": "https://localhost:8080/"
        },
        "id": "iPudgjq7bon5",
        "outputId": "a8379a72-b5b2-4d63-e34c-9659cea8137d"
      },
      "execution_count": null,
      "outputs": [
        {
          "output_type": "execute_result",
          "data": {
            "text/plain": [
              "torch.Size([100, 784])"
            ]
          },
          "metadata": {},
          "execution_count": 145
        }
      ]
    }
  ]
}